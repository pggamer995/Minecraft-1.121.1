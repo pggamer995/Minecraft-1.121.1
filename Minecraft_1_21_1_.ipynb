{
  "cells": [
    {
      "cell_type": "markdown",
      "metadata": {
        "id": "hxJytvE_QIGH"
      },
      "source": [
        "# 🎮🔥 **PG GAMER** 🔥🎮\n",
        "## Minecraft Server Setup\n",
        "### Paper 1.21.1\n",
        "---\n",
        "🚀 **Powered by PG Gamer**\n"
      ]
    },
    {
      "cell_type": "markdown",
      "metadata": {
        "id": "sFveaCDHRNof"
      },
      "source": [
        "\n",
        "## 🏗️ **Build. Survive. Conquer.**\n",
        "🔹 **Welcome to PG Gamer's Minecraft Server Setup!**  \n",
        "🔹 **Ultra-Smooth Performance** ⚡ | **Lag-Free Gameplay** 🎯 | **Next-Level Customization** 🛠️  \n",
        "🔹 **Designed for True Gamers** – Whether you're a **Pro Builder 🏰, Redstone Engineer ⚙️, or Survival Expert 🌲**, we've got you covered!  \n",
        "\n",
        "---\n",
        "\n",
        "## 🌎 **Why Choose PG Gamer?**\n",
        "✅ **Latest PaperMC Server** 🚀  \n",
        "✅ **Fastest Setup & Easy-to-Use** 💡  \n",
        "✅ **Fully Optimized for Performance** ⚙️\n",
        "\n",
        "---\n",
        "\n",
        "## 🔥 **Join the Adventure & Rule the World!** 🌍🏆  \n",
        "🎯 **\"Your Game, Your Rules – Powered by PG Gamer!\"** 🎮✨  \n",
        "\n",
        "🚀 **Let's Get Started!** ⏳💥  \n"
      ]
    },
    {
      "cell_type": "code",
      "execution_count": null,
      "metadata": {
        "colab": {
          "background_save": true,
          "base_uri": "https://localhost:8080/",
          "height": 1000
        },
        "id": "POzZ-6wmNfXT",
        "outputId": "12e73ac4-6fda-47cd-b52a-1fe6af73c6f1"
      },
      "outputs": [
        {
          "data": {
            "text/html": [
              "\n",
              "    <style>\n",
              "        @keyframes blink {\n",
              "            0% { opacity: 1; }\n",
              "            50% { opacity: 0; }\n",
              "            100% { opacity: 1; }\n",
              "        }\n",
              "        .pg-banner {\n",
              "            font-size: 30px;\n",
              "            color: cyan;\n",
              "            font-weight: bold;\n",
              "            text-align: center;\n",
              "            animation: blink 1s infinite;\n",
              "        }\n",
              "        .pg-box {\n",
              "            background-color: black;\n",
              "            color: lime;\n",
              "            font-size: 20px;\n",
              "            padding: 20px;\n",
              "            border-radius: 10px;\n",
              "            text-align: center;\n",
              "            font-weight: bold;\n",
              "        }\n",
              "    </style>\n",
              "    <div class='pg-banner'>🚀 PG GAMER - MINECRAFT SERVER SETUP 🚀</div>\n",
              "    <div class='pg-box'>Setting up PaperMC Server... Please Wait! 🔥</div>\n",
              "    "
            ],
            "text/plain": [
              "<IPython.core.display.HTML object>"
            ]
          },
          "metadata": {},
          "output_type": "display_data"
        },
        {
          "name": "stdout",
          "output_type": "stream",
          "text": [
            "Mounted at /content/drive\n",
            "Hit:1 http://security.ubuntu.com/ubuntu jammy-security InRelease\n",
            "Hit:2 https://cloud.r-project.org/bin/linux/ubuntu jammy-cran40/ InRelease\n",
            "Hit:3 http://archive.ubuntu.com/ubuntu jammy InRelease\n",
            "Hit:4 https://r2u.stat.illinois.edu/ubuntu jammy InRelease\n",
            "Hit:5 https://developer.download.nvidia.com/compute/cuda/repos/ubuntu2204/x86_64  InRelease\n",
            "Hit:6 http://archive.ubuntu.com/ubuntu jammy-updates InRelease\n",
            "Hit:7 http://archive.ubuntu.com/ubuntu jammy-backports InRelease\n",
            "Hit:8 https://ppa.launchpadcontent.net/deadsnakes/ppa/ubuntu jammy InRelease\n",
            "Hit:9 https://ppa.launchpadcontent.net/graphics-drivers/ppa/ubuntu jammy InRelease\n",
            "Hit:10 https://ppa.launchpadcontent.net/ubuntugis/ppa/ubuntu jammy InRelease\n",
            "Reading package lists... Done\n",
            "Building dependency tree... Done\n",
            "Reading state information... Done\n",
            "30 packages can be upgraded. Run 'apt list --upgradable' to see them.\n",
            "\u001b[1;33mW: \u001b[0mSkipping acquire of configured file 'main/source/Sources' as repository 'https://r2u.stat.illinois.edu/ubuntu jammy InRelease' does not seem to provide it (sources.list entry misspelt?)\u001b[0m\n",
            "Reading package lists... Done\n",
            "Building dependency tree... Done\n",
            "Reading state information... Done\n",
            "openjdk-21-jre-headless is already the newest version (21.0.6+7-1~22.04.1).\n",
            "0 upgraded, 0 newly installed, 0 to remove and 30 not upgraded.\n",
            "openjdk version \"21.0.6\" 2025-01-21\n",
            "OpenJDK Runtime Environment (build 21.0.6+7-Ubuntu-122.04.1)\n",
            "OpenJDK 64-Bit Server VM (build 21.0.6+7-Ubuntu-122.04.1, mixed mode, sharing)\n"
          ]
        },
        {
          "data": {
            "text/html": [
              "\n",
              "    <div class='pg-box' style='color: red;'>❌ PG Gamer: I Can See You! Unauthorized Version Detected! ❌</div>\n",
              "    "
            ],
            "text/plain": [
              "<IPython.core.display.HTML object>"
            ]
          },
          "metadata": {},
          "output_type": "display_data"
        },
        {
          "data": {
            "text/html": [
              "\n",
              "<div class='pg-box'>🟢 PG Gamer: Setting up PaperMC server for version 1.21.1</div>\n"
            ],
            "text/plain": [
              "<IPython.core.display.HTML object>"
            ]
          },
          "metadata": {},
          "output_type": "display_data"
        },
        {
          "data": {
            "text/html": [
              "\n",
              "            <div class='pg-box' style='color: yellow;'>✅ PG Gamer: PaperMC Download URL: <br><a href='https://api.papermc.io/v2/projects/paper/versions/1.21.1/builds/132/downloads/paper-1.21.1-132.jar' target='_blank'>https://api.papermc.io/v2/projects/paper/versions/1.21.1/builds/132/downloads/paper-1.21.1-132.jar</a></div>\n",
              "            "
            ],
            "text/plain": [
              "<IPython.core.display.HTML object>"
            ]
          },
          "metadata": {},
          "output_type": "display_data"
        },
        {
          "name": "stdout",
          "output_type": "stream",
          "text": [
            "--2025-03-23 18:42:48--  https://api.papermc.io/v2/projects/paper/versions/1.21.1/builds/132/downloads/paper-1.21.1-132.jar\n",
            "Resolving api.papermc.io (api.papermc.io)... 172.67.72.198, 104.26.13.138, 104.26.12.138, ...\n",
            "Connecting to api.papermc.io (api.papermc.io)|172.67.72.198|:443... connected.\n",
            "HTTP request sent, awaiting response... 200 OK\n",
            "Length: 49381098 (47M) [application/java-archive]\n",
            "Saving to: ‘paper.jar’\n",
            "\n",
            "paper.jar           100%[===================>]  47.09M  44.8MB/s    in 1.1s    \n",
            "\n",
            "2025-03-23 18:42:49 (44.8 MB/s) - ‘paper.jar’ saved [49381098/49381098]\n",
            "\n"
          ]
        },
        {
          "data": {
            "text/html": [
              "\n",
              "            <div class='pg-box' style='color: green;'>🚀 PG Gamer: Starting Minecraft Server... Please Wait! ⏳</div>\n",
              "            "
            ],
            "text/plain": [
              "<IPython.core.display.HTML object>"
            ]
          },
          "metadata": {},
          "output_type": "display_data"
        },
        {
          "name": "stdout",
          "output_type": "stream",
          "text": [
            "Starting org.bukkit.craftbukkit.Main\n",
            "*** Warning, you've not updated in a while! ***\n",
            "*** Please download a new build as per instructions from https://papermc.io/downloads/paper ***\n",
            "[18:42:54 INFO]: [bootstrap] Running Java 21 (OpenJDK 64-Bit Server VM 21.0.6+7-Ubuntu-122.04.1; Ubuntu null) on Linux 6.1.85+ (amd64)\n",
            "[18:42:54 INFO]: [bootstrap] Loading Paper 1.21.1-132-ver/1.21.1@b48403b (2024-11-21T10:14:27Z) for Minecraft 1.21.1\n",
            "[18:42:55 INFO]: [PluginInitializerManager] Initializing plugins...\n",
            "[18:42:55 INFO]: [PluginInitializerManager] Initialized 0 plugins\n",
            "[18:43:15 INFO]: Environment: Environment[sessionHost=https://sessionserver.mojang.com, servicesHost=https://api.minecraftservices.com, name=PROD]\n",
            "[18:43:20 INFO]: Loaded 1290 recipes\n",
            "[18:43:20 INFO]: Loaded 1399 advancements\n",
            "[18:43:21 INFO]: Starting minecraft server version 1.21.1\n",
            "\u001b[33;1m[18:43:21 WARN]: ****************************\n",
            "\u001b[m\u001b[33;1m[18:43:21 WARN]: YOU ARE RUNNING THIS SERVER AS AN ADMINISTRATIVE OR ROOT USER. THIS IS NOT ADVISED.\n",
            "\u001b[m\u001b[33;1m[18:43:21 WARN]: YOU ARE OPENING YOURSELF UP TO POTENTIAL RISKS WHEN DOING THIS.\n",
            "\u001b[m\u001b[33;1m[18:43:21 WARN]: FOR MORE INFORMATION, SEE https://madelinemiller.dev/blog/root-minecraft-server/\n",
            "\u001b[m\u001b[33;1m[18:43:21 WARN]: ****************************\n",
            "\u001b[m[18:43:21 INFO]: Loading properties\n",
            "[18:43:21 INFO]: This server is running Paper version 1.21.1-132-ver/1.21.1@b48403b (2024-11-21T10:14:27Z) (Implementing API version 1.21.1-R0.1-SNAPSHOT)\n",
            "[18:43:23 INFO]: [spark] This server bundles the spark profiler. For more information please visit https://docs.papermc.io/paper/profiling\n",
            "[18:43:23 INFO]: Using 4 threads for Netty based IO\n",
            "[18:43:23 INFO]: Server Ping Player Sample Count: 12\n",
            "[18:43:25 INFO]: [ChunkTaskScheduler] Chunk system is using 1 I/O threads, 1 worker threads, and population gen parallelism of 1 threads\n",
            "[18:43:26 INFO]: Default game type: SURVIVAL\n",
            "[18:43:26 INFO]: Generating keypair\n",
            "\u001b[K[18:43:26 INFO]: Starting Minecraft server on *:25565\n",
            "\u001b[K[18:43:27 INFO]: Using epoll channel type\n",
            "\u001b[K[18:43:27 INFO]: Paper: Using libdeflate (Linux x86_64) compression from Velocity.\n",
            "\u001b[K[18:43:27 INFO]: Paper: Using OpenSSL 3.x.x (Linux x86_64) cipher from Velocity.\n",
            "\u001b[K[18:43:27 INFO]: Server permissions file permissions.yml is empty, ignoring it\n",
            "\u001b[K[18:43:27 INFO]: Preparing level \"world\"\n",
            "\u001b[K[18:43:29 INFO]: Preparing start region for dimension minecraft:overworld\n",
            "\u001b[K[18:43:33 INFO]: Time elapsed: 3142 ms\n",
            "\u001b[K[18:43:33 INFO]: Preparing start region for dimension minecraft:the_nether\n",
            "\u001b[K[18:43:36 INFO]: Time elapsed: 3229 ms\n",
            "\u001b[K[18:43:36 INFO]: Preparing start region for dimension minecraft:the_end\n",
            "\u001b[K[18:43:37 INFO]: Time elapsed: 1491 ms\n",
            "\u001b[K[18:43:37 INFO]: [spark] Starting background profiler...\n",
            "\u001b[K[18:43:38 INFO]: Done preparing level \"world\" (11.286s)\n",
            "\u001b[K[18:43:38 INFO]: Running delayed init tasks\n",
            "\u001b[K[18:43:38 INFO]: Done (46.175s)! For help, type \"help\"\n",
            "\u001b[K[18:43:38 INFO]: Timings Reset\n",
            ">...."
          ]
        }
      ],
      "source": [
        "from google.colab import drive\n",
        "from IPython.core.display import display, HTML\n",
        "import os\n",
        "import requests\n",
        "import base64\n",
        "import hashlib\n",
        "\n",
        "# 🎮🔥 PG Gamer - Minecraft PaperMC Server Setup [for v1.21.1] 🔥🎮\n",
        "# This script is modified and branded by PG Gamer\n",
        "\n",
        "def show_banner():\n",
        "    banner_html = \"\"\"\n",
        "    <style>\n",
        "        @keyframes blink {\n",
        "            0% { opacity: 1; }\n",
        "            50% { opacity: 0; }\n",
        "            100% { opacity: 1; }\n",
        "        }\n",
        "        .pg-banner {\n",
        "            font-size: 30px;\n",
        "            color: cyan;\n",
        "            font-weight: bold;\n",
        "            text-align: center;\n",
        "            animation: blink 1s infinite;\n",
        "        }\n",
        "        .pg-box {\n",
        "            background-color: black;\n",
        "            color: lime;\n",
        "            font-size: 20px;\n",
        "            padding: 20px;\n",
        "            border-radius: 10px;\n",
        "            text-align: center;\n",
        "            font-weight: bold;\n",
        "        }\n",
        "    </style>\n",
        "    <div class='pg-banner'>🚀 PG GAMER - MINECRAFT SERVER SETUP 🚀</div>\n",
        "    <div class='pg-box'>Setting up PaperMC Server... Please Wait! 🔥</div>\n",
        "    \"\"\"\n",
        "    display(HTML(banner_html))\n",
        "\n",
        "show_banner()\n",
        "\n",
        "drive.mount('/content/drive', force_remount=True)\n",
        "\n",
        "os.chdir(\"/\")\n",
        "server_path = \"/content/drive/My Drive/Minecraft-server\"\n",
        "if not os.path.exists(server_path):\n",
        "    os.makedirs(server_path)\n",
        "\n",
        "!apt update -y && apt install openjdk-21-jre-headless -y\n",
        "!java -version  # Check if Java 21 installed successfully\n",
        "\n",
        "encoded_version = \"MS4yMS4x\"\n",
        "version = base64.b64decode(encoded_version).decode(\"utf-8\")\n",
        "\n",
        "def check_version(ver):\n",
        "    return hashlib.md5(ver.encode()).hexdigest() == \"ef92b7787e5e1e8a8f6a28f9c6fca0b1\"  # MD5 of \"1.21.1\"\n",
        "\n",
        "if not check_version(version):\n",
        "    error_html = \"\"\"\n",
        "    <div class='pg-box' style='color: red;'>❌ PG Gamer: I Can See You! Unauthorized Version Detected! ❌</div>\n",
        "    \"\"\"\n",
        "    display(HTML(error_html))\n",
        "    exit()\n",
        "\n",
        "status_html = f\"\"\"\n",
        "<div class='pg-box'>🟢 PG Gamer: Setting up PaperMC server for version {version}</div>\n",
        "\"\"\"\n",
        "display(HTML(status_html))\n",
        "\n",
        "response = requests.get(f\"https://api.papermc.io/v2/projects/paper/versions/{version}\")\n",
        "\n",
        "if response.status_code == 200 and response.text.strip():\n",
        "    data = response.json()\n",
        "\n",
        "    if \"builds\" in data and data[\"builds\"]:\n",
        "        latest_build = data[\"builds\"][-1]\n",
        "\n",
        "        build_response = requests.get(f\"https://api.papermc.io/v2/projects/paper/versions/{version}/builds/{latest_build}\")\n",
        "\n",
        "        if build_response.status_code == 200 and build_response.text.strip():\n",
        "            build_data = build_response.json()\n",
        "            download_link = build_data[\"downloads\"][\"application\"][\"name\"]\n",
        "            paperURL = f\"https://api.papermc.io/v2/projects/paper/versions/{version}/builds/{latest_build}/downloads/{download_link}\"\n",
        "\n",
        "            download_html = f\"\"\"\n",
        "            <div class='pg-box' style='color: yellow;'>✅ PG Gamer: PaperMC Download URL: <br><a href='{paperURL}' target='_blank'>{paperURL}</a></div>\n",
        "            \"\"\"\n",
        "            display(HTML(download_html))\n",
        "\n",
        "            os.chdir(server_path)  # Move to server directory\n",
        "            !wget -O paper.jar \"{paperURL}\"\n",
        "\n",
        "            with open(\"eula.txt\", \"w\") as f:\n",
        "                f.write(\"eula=true\")\n",
        "\n",
        "            running_html = \"\"\"\n",
        "            <div class='pg-box' style='color: green;'>🚀 PG Gamer: Starting Minecraft Server... Please Wait! ⏳</div>\n",
        "            \"\"\"\n",
        "            display(HTML(running_html))\n",
        "\n",
        "            !java -Xms2G -Xmx12G -jar paper.jar nogui\n",
        "\n",
        "        else:\n",
        "            error_html = \"\"\"\n",
        "            <div class='pg-box' style='color: red;'>❌ PG Gamer: Error - Unable to fetch PaperMC build details.</div>\n",
        "            \"\"\"\n",
        "            display(HTML(error_html))\n",
        "    else:\n",
        "        error_html = f\"\"\"\n",
        "        <div class='pg-box' style='color: red;'>❌ PG Gamer: Error - No builds found for version {version}</div>\n",
        "        \"\"\"\n",
        "        display(HTML(error_html))\n",
        "else:\n",
        "    error_html = \"\"\"\n",
        "    <div class='pg-box' style='color: red;'>❌ PG Gamer: Error - Unable to fetch PaperMC version details.</div>\n",
        "    \"\"\"\n",
        "    display(HTML(error_html))\n"
      ]
    },
    {
      "cell_type": "markdown",
      "metadata": {
        "id": "glVk9HGFTMMg"
      },
      "source": [
        "# 🎮 <span style=\"color:#FF4500; text-shadow: 2px 2px 5px #FFD700;\"> PG GAMER </span> 🎮\n",
        "\n",
        "## 🚀 <span style=\"color:#FFD700;\">Ultimate Minecraft Server Setup</span> 🚀\n",
        "\n",
        "### 💖 Made with ❤️ by PG Gamer | Powered by Google Colab\n"
      ]
    }
  ],
  "metadata": {
    "colab": {
      "provenance": []
    },
    "kernelspec": {
      "display_name": "Python 3",
      "name": "python3"
    },
    "language_info": {
      "name": "python"
    }
  },
  "nbformat": 4,
  "nbformat_minor": 0
}